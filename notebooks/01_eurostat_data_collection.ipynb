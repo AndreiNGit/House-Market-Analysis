{
 "cells": [
  {
   "cell_type": "code",
   "execution_count": 4,
   "metadata": {},
   "outputs": [],
   "source": [
    "from eurostatapiclient import EurostatAPIClient\n",
    "import pandas as pd\n",
    "import sys\n",
    "import os"
   ]
  },
  {
   "cell_type": "code",
   "execution_count": 5,
   "metadata": {},
   "outputs": [],
   "source": [
    "project_path = os.path.abspath(os.path.join(os.getcwd(), \"..\"))\n",
    "if project_path not in sys.path:\n",
    "    sys.path.append(project_path)\n",
    "\n",
    "import utils.get_data_utils as gdu"
   ]
  },
  {
   "cell_type": "code",
   "execution_count": 6,
   "metadata": {},
   "outputs": [
    {
     "name": "stdout",
     "output_type": "stream",
     "text": [
      "{'prc_hpi_a': {'unit': 'RCH_A_AVG', 'purchase': 'TOTAL', 'geo': ['BE', 'EL', 'LT', 'PT', 'BG', 'ES', 'LU', 'RO', 'CZ', 'FR', 'HU', 'SI', 'DK', 'HR', 'MT', 'SK', 'DE', 'IT', 'NL', 'FI', 'EE', 'CY', 'AT', 'SE', 'IE', 'LV', 'PL'], 'time': ['2005', '2006', '2007', '2008', '2009', '2010', '2011', '2012', '2013', '2014', '2015', '2016', '2017', '2018', '2019', '2020', '2021', '2022', '2023'], 'freq': 'A'}, 'tipsho60': {'unit': 'PTIR_LT_AVG', 'geo': ['BE', 'EL', 'LT', 'PT', 'BG', 'ES', 'LU', 'RO', 'CZ', 'FR', 'HU', 'SI', 'DK', 'HR', 'MT', 'SK', 'DE', 'IT', 'NL', 'FI', 'EE', 'CY', 'AT', 'SE', 'IE', 'LV', 'PL'], 'time': ['2005', '2006', '2007', '2008', '2009', '2010', '2011', '2012', '2013', '2014', '2015', '2016', '2017', '2018', '2019', '2020', '2021', '2022', '2023'], 'freq': 'A'}, 'sts_cobp_a': {'unit': 'I21', 'indic_bt': 'BPRM_SQM', 'cpa2_1': 'CPA_F41001', 'geo': ['BE', 'EL', 'LT', 'PT', 'BG', 'ES', 'LU', 'RO', 'CZ', 'FR', 'HU', 'SI', 'DK', 'HR', 'MT', 'SK', 'DE', 'IT', 'NL', 'FI', 'EE', 'CY', 'AT', 'SE', 'IE', 'LV', 'PL'], 'time': ['2005', '2006', '2007', '2008', '2009', '2010', '2011', '2012', '2013', '2014', '2015', '2016', '2017', '2018', '2019', '2020', '2021', '2022', '2023'], 'freq': 'A'}, 'migr_imm1ctz': {'citizen': 'TOTAL', 'agedef': 'REACH', 'age': 'TOTAL', 'sex': 'T', 'geo': ['BE', 'EL', 'LT', 'PT', 'BG', 'ES', 'LU', 'RO', 'CZ', 'FR', 'HU', 'SI', 'DK', 'HR', 'MT', 'SK', 'DE', 'IT', 'NL', 'FI', 'EE', 'CY', 'AT', 'SE', 'IE', 'LV', 'PL'], 'time': ['2005', '2006', '2007', '2008', '2009', '2010', '2011', '2012', '2013', '2014', '2015', '2016', '2017', '2018', '2019', '2020', '2021', '2022', '2023'], 'freq': 'A'}, 'ilc_lvps08': {'sex': 'T', 'age': 'Y18-34', 'geo': ['BE', 'EL', 'LT', 'PT', 'BG', 'ES', 'LU', 'RO', 'CZ', 'FR', 'HU', 'SI', 'DK', 'HR', 'MT', 'SK', 'DE', 'IT', 'NL', 'FI', 'EE', 'CY', 'AT', 'SE', 'IE', 'LV', 'PL'], 'time': ['2005', '2006', '2007', '2008', '2009', '2010', '2011', '2012', '2013', '2014', '2015', '2016', '2017', '2018', '2019', '2020', '2021', '2022', '2023'], 'freq': 'A'}, 'sts_copi_a': {'unit': 'PCH_SM', 'indic_bt': 'PRC_PRR', 'geo': ['BE', 'EL', 'LT', 'PT', 'BG', 'ES', 'LU', 'RO', 'CZ', 'FR', 'HU', 'SI', 'DK', 'HR', 'MT', 'SK', 'DE', 'IT', 'NL', 'FI', 'EE', 'CY', 'AT', 'SE', 'IE', 'LV', 'PL'], 'time': ['2005', '2006', '2007', '2008', '2009', '2010', '2011', '2012', '2013', '2014', '2015', '2016', '2017', '2018', '2019', '2020', '2021', '2022', '2023'], 'freq': 'A'}, 'earn_nt_net': {'ecase': 'P1_NCH_AW100', 'currency': 'EUR', 'estruct': 'NET', 'geo': ['BE', 'EL', 'LT', 'PT', 'BG', 'ES', 'LU', 'RO', 'CZ', 'FR', 'HU', 'SI', 'DK', 'HR', 'MT', 'SK', 'DE', 'IT', 'NL', 'FI', 'EE', 'CY', 'AT', 'SE', 'IE', 'LV', 'PL'], 'time': ['2005', '2006', '2007', '2008', '2009', '2010', '2011', '2012', '2013', '2014', '2015', '2016', '2017', '2018', '2019', '2020', '2021', '2022', '2023'], 'freq': 'A'}, 'ilc_li48': {'deg_urb': 'TOTAL', 'geo': ['BE', 'EL', 'LT', 'PT', 'BG', 'ES', 'LU', 'RO', 'CZ', 'FR', 'HU', 'SI', 'DK', 'HR', 'MT', 'SK', 'DE', 'IT', 'NL', 'FI', 'EE', 'CY', 'AT', 'SE', 'IE', 'LV', 'PL'], 'time': ['2005', '2006', '2007', '2008', '2009', '2010', '2011', '2012', '2013', '2014', '2015', '2016', '2017', '2018', '2019', '2020', '2021', '2022', '2023'], 'freq': 'A'}, 'tps00003': {'geo': ['BE', 'EL', 'LT', 'PT', 'BG', 'ES', 'LU', 'RO', 'CZ', 'FR', 'HU', 'SI', 'DK', 'HR', 'MT', 'SK', 'DE', 'IT', 'NL', 'FI', 'EE', 'CY', 'AT', 'SE', 'IE', 'LV', 'PL'], 'time': ['2005', '2006', '2007', '2008', '2009', '2010', '2011', '2012', '2013', '2014', '2015', '2016', '2017', '2018', '2019', '2020', '2021', '2022', '2023'], 'freq': 'A'}, 'tps00206': {'geo': ['BE', 'EL', 'LT', 'PT', 'BG', 'ES', 'LU', 'RO', 'CZ', 'FR', 'HU', 'SI', 'DK', 'HR', 'MT', 'SK', 'DE', 'IT', 'NL', 'FI', 'EE', 'CY', 'AT', 'SE', 'IE', 'LV', 'PL'], 'time': ['2005', '2006', '2007', '2008', '2009', '2010', '2011', '2012', '2013', '2014', '2015', '2016', '2017', '2018', '2019', '2020', '2021', '2022', '2023'], 'freq': 'A'}, 'tec00118': {'geo': ['BE', 'EL', 'LT', 'PT', 'BG', 'ES', 'LU', 'RO', 'CZ', 'FR', 'HU', 'SI', 'DK', 'HR', 'MT', 'SK', 'DE', 'IT', 'NL', 'FI', 'EE', 'CY', 'AT', 'SE', 'IE', 'LV', 'PL'], 'time': ['2005', '2006', '2007', '2008', '2009', '2010', '2011', '2012', '2013', '2014', '2015', '2016', '2017', '2018', '2019', '2020', '2021', '2022', '2023'], 'freq': 'A'}, 'tps00019': {'indic_de': 'GROWRT', 'geo': ['BE', 'EL', 'LT', 'PT', 'BG', 'ES', 'LU', 'RO', 'CZ', 'FR', 'HU', 'SI', 'DK', 'HR', 'MT', 'SK', 'DE', 'IT', 'NL', 'FI', 'EE', 'CY', 'AT', 'SE', 'IE', 'LV', 'PL'], 'time': ['2005', '2006', '2007', '2008', '2009', '2010', '2011', '2012', '2013', '2014', '2015', '2016', '2017', '2018', '2019', '2020', '2021', '2022', '2023'], 'freq': 'A'}, 'tesem120': {'sex': 'T', 'geo': ['BE', 'EL', 'LT', 'PT', 'BG', 'ES', 'LU', 'RO', 'CZ', 'FR', 'HU', 'SI', 'DK', 'HR', 'MT', 'SK', 'DE', 'IT', 'NL', 'FI', 'EE', 'CY', 'AT', 'SE', 'IE', 'LV', 'PL'], 'time': ['2005', '2006', '2007', '2008', '2009', '2010', '2011', '2012', '2013', '2014', '2015', '2016', '2017', '2018', '2019', '2020', '2021', '2022', '2023'], 'freq': 'A'}}\n"
     ]
    }
   ],
   "source": [
    "# Get the list of years for analysis\n",
    "time_period = [ str(t) for t in range(2005, 2024)]\n",
    "\n",
    "# Get the list of countries for analysis\n",
    "country_codes = [\n",
    "    \"BE\",  # Belgium\n",
    "    \"EL\",  # Greece\n",
    "    \"LT\",  # Lithuania\n",
    "    \"PT\",  # Portugal\n",
    "    \"BG\",  # Bulgaria\n",
    "    \"ES\",  # Spain\n",
    "    \"LU\",  # Luxembourg\n",
    "    \"RO\",  # Romania\n",
    "    \"CZ\",  # Czechia\n",
    "    \"FR\",  # France\n",
    "    \"HU\",  # Hungary\n",
    "    \"SI\",  # Slovenia\n",
    "    \"DK\",  # Denmark\n",
    "    \"HR\",  # Croatia\n",
    "    \"MT\",  # Malta\n",
    "    \"SK\",  # Slovakia\n",
    "    \"DE\",  # Germany\n",
    "    \"IT\",  # Italy\n",
    "    \"NL\",  # Netherlands\n",
    "    \"FI\",  # Finland\n",
    "    \"EE\",  # Estonia\n",
    "    \"CY\",  # Cyprus\n",
    "    \"AT\",  # Austria\n",
    "    \"SE\",  # Sweden\n",
    "    \"IE\",  # Ireland\n",
    "    \"LV\",  # Latvia\n",
    "    \"PL\"   # Poland\n",
    "]\n",
    "\n",
    "\n",
    "# Get the list of indicators along with their filters for our analysis\n",
    "indicators = {\n",
    "    'prc_hpi_a': {\n",
    "        \"unit\": \"RCH_A_AVG\", # Annual average rate of change\n",
    "        \"purchase\": \"TOTAL\"\n",
    "    },  # House price index\n",
    "    'tipsho60': {\n",
    "        \"unit\": \"PTIR_LT_AVG\" # Price-to-income ratio relative to long-term average\n",
    "    }, # Standardised house price-to-income ratio\n",
    "    'sts_cobp_a': {\n",
    "        \"unit\": \"I21\", # Index, 2021=100\n",
    "        \"indic_bt\": \"BPRM_SQM\", # Building permits - m2 of useful floor area\n",
    "        \"cpa2_1\": \"CPA_F41001\" # Residential buildings\n",
    "    }, # Building permits\n",
    "    'migr_imm1ctz': {\n",
    "        \"citizen\": \"TOTAL\",\n",
    "        \"agedef\": \"REACH\",\n",
    "        \"age\": \"TOTAL\",\n",
    "        \"sex\": \"T\"\n",
    "    }, # Immigration by age group, sex and citizenship\n",
    "    'ilc_lvps08': {\n",
    "        \"sex\": \"T\",\n",
    "        \"age\": \"Y18-34\" # From 18 to 34 years\n",
    "    }, # Persons living with their parents or contributing/benefiting from the household income (population aged 18 to 34 years)\n",
    "    'sts_copi_a': {\n",
    "        \"unit\": \"PCH_SM\", # Percentage change compared to same period in previous year\n",
    "        \"indic_bt\": \"PRC_PRR\", # Producer prices\n",
    "    }, # Construction producer prices or costs, new residential buildings\n",
    "    # 'crim_off_cat': {\n",
    "    #     \"unit\": \"P_HTHAB\" # Per hundred thousand inhabitants\n",
    "    # }, # Police-recorded offences by offence category\n",
    "    'earn_nt_net': {\n",
    "        \"ecase\": \"P1_NCH_AW100\", # Single person without children earning 100% of the average earning\n",
    "        \"currency\": \"EUR\",\n",
    "        \"estruct\": \"NET\" # Net earning\n",
    "    }, # Annual net earnings\n",
    "    'ilc_li48': {\n",
    "        \"deg_urb\": \"TOTAL\"\n",
    "    }, # At-risk-of-poverty rate after deducting housing costs by degree of urbanisation\n",
    "    'tps00003': {\n",
    "        # No aditional parameters\n",
    "    }, # Population density\n",
    "    'tps00206': {\n",
    "        # No aditional parameters\n",
    "    }, # Crude marriage rate\n",
    "    'tec00118': {\n",
    "        # No aditional parameters\n",
    "    }, # HICP - inflation rate\n",
    "    'tps00019': {\n",
    "        \"indic_de\": \"GROWRT\" # Crude rate of total population change\n",
    "    }, # Population change - crude rates of total change, natural change and net migration plus adjustment\n",
    "    'tesem120': {\n",
    "        \"sex\": \"T\"\n",
    "    }, # Unemployment rate by sex\n",
    "    # 'ert_bil_eur_a': {\n",
    "    #     \"unit\": \"\"\n",
    "    # }, # Euro/ECU exchange rates - annual data\n",
    "}\n",
    "\n",
    "renamingIndicatorsMapping = {\n",
    "    'prc_hpi_a': \"house_price_index\",      # House price index\n",
    "    'tipsho60': \"price_income_ratio\",       # Price-to-income ratio\n",
    "    'sts_cobp_a': \"building_permits\",        # Building permits (sqm useful floor area)\n",
    "    'migr_imm1ctz': \"immigration\",           # Immigration demographics\n",
    "    'ilc_lvps08': \"living_with_parents\",     # Living with parents (18-34)\n",
    "    'sts_copi_a': \"construction_prices\",     # Construction producer prices/costs\n",
    "    'earn_nt_net': \"net_earnings\",           # Net earnings\n",
    "    'ilc_li48': \"poverty_rate\",              # At-risk-of-poverty rate\n",
    "    'tps00003': \"pop_density\",               # Population density\n",
    "    'tps00206': \"marriage_rate\",             # Crude marriage rate\n",
    "    'tec00118': \"inflation_rate\",            # HICP - inflation rate\n",
    "    'tps00019': \"pop_change\",                # Population change rate\n",
    "    'tesem120': \"unemployment_rate\"          # Unemployment rate\n",
    "}\n",
    "\n",
    "\n",
    "for indicator in indicators:\n",
    "    indicators[indicator]['geo'] = country_codes\n",
    "    indicators[indicator]['time'] = time_period\n",
    "    indicators[indicator]['freq'] = 'A'\n",
    "\n",
    "print(indicators)"
   ]
  },
  {
   "cell_type": "code",
   "execution_count": 7,
   "metadata": {},
   "outputs": [
    {
     "ename": "NameError",
     "evalue": "name 'get_eurostat_data' is not defined",
     "output_type": "error",
     "traceback": [
      "\u001b[1;31m---------------------------------------------------------------------------\u001b[0m",
      "\u001b[1;31mNameError\u001b[0m                                 Traceback (most recent call last)",
      "Cell \u001b[1;32mIn[7], line 1\u001b[0m\n\u001b[1;32m----> 1\u001b[0m df \u001b[38;5;241m=\u001b[39m \u001b[43mget_eurostat_data\u001b[49m(indicators, renamingIndicatorsMapping)\n\u001b[0;32m      3\u001b[0m \u001b[38;5;28mprint\u001b[39m(df\u001b[38;5;241m.\u001b[39mhead(\u001b[38;5;241m100\u001b[39m))\n",
      "\u001b[1;31mNameError\u001b[0m: name 'get_eurostat_data' is not defined"
     ]
    }
   ],
   "source": [
    "df = gdu.get_eurostat_data(indicators, renamingIndicatorsMapping)\n",
    "\n",
    "print(df.head(100))"
   ]
  }
 ],
 "metadata": {
  "kernelspec": {
   "display_name": "venv",
   "language": "python",
   "name": "python3"
  },
  "language_info": {
   "codemirror_mode": {
    "name": "ipython",
    "version": 3
   },
   "file_extension": ".py",
   "mimetype": "text/x-python",
   "name": "python",
   "nbconvert_exporter": "python",
   "pygments_lexer": "ipython3",
   "version": "3.12.1"
  }
 },
 "nbformat": 4,
 "nbformat_minor": 2
}
