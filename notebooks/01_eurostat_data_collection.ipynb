{
 "cells": [
  {
   "cell_type": "code",
   "execution_count": 6,
   "metadata": {},
   "outputs": [],
   "source": [
    "import pandas as pd\n",
    "import sys\n",
    "import os"
   ]
  },
  {
   "cell_type": "code",
   "execution_count": null,
   "metadata": {},
   "outputs": [],
   "source": [
    "project_path = os.path.abspath(os.path.join(os.getcwd(), \"..\"))\n",
    "if project_path not in sys.path:\n",
    "    sys.path.append(project_path)\n",
    "\n",
    "import utils.get_data_utils as gdu"
   ]
  },
  {
   "cell_type": "code",
   "execution_count": 8,
   "metadata": {},
   "outputs": [
    {
     "name": "stdout",
     "output_type": "stream",
     "text": [
      "{'prc_hicp_midx': {'unit': 'I15', 'coicop': 'CP00', 'freq': 'M', 'label': 'inflation_rate', 'geo': ['BE', 'EL', 'LT', 'PT', 'BG', 'ES', 'LU', 'RO', 'CZ', 'FR', 'HU', 'SI', 'DK', 'HR', 'MT', 'SK', 'DE', 'IT', 'NL', 'FI', 'EE', 'CY', 'AT', 'SE', 'IE', 'LV', 'PL'], 'time': ['2005', '2006', '2007', '2008', '2009', '2010', '2011', '2012', '2013', '2014', '2015', '2016', '2017', '2018', '2019', '2020', '2021', '2022', '2023']}, 'tps00019': {'indic_de': 'GROWRT', 'label': 'pop_change', 'geo': ['BE', 'EL', 'LT', 'PT', 'BG', 'ES', 'LU', 'RO', 'CZ', 'FR', 'HU', 'SI', 'DK', 'HR', 'MT', 'SK', 'DE', 'IT', 'NL', 'FI', 'EE', 'CY', 'AT', 'SE', 'IE', 'LV', 'PL'], 'time': ['2005', '2006', '2007', '2008', '2009', '2010', '2011', '2012', '2013', '2014', '2015', '2016', '2017', '2018', '2019', '2020', '2021', '2022', '2023'], 'freq': 'A'}, 'tesem120': {'sex': 'T', 'label': 'unemployment_rate', 'geo': ['BE', 'EL', 'LT', 'PT', 'BG', 'ES', 'LU', 'RO', 'CZ', 'FR', 'HU', 'SI', 'DK', 'HR', 'MT', 'SK', 'DE', 'IT', 'NL', 'FI', 'EE', 'CY', 'AT', 'SE', 'IE', 'LV', 'PL'], 'time': ['2005', '2006', '2007', '2008', '2009', '2010', '2011', '2012', '2013', '2014', '2015', '2016', '2017', '2018', '2019', '2020', '2021', '2022', '2023'], 'freq': 'A'}}\n"
     ]
    }
   ],
   "source": [
    "# Get the list of years for analysis\n",
    "time_period = [ str(t) for t in range(2005, 2024)]\n",
    "\n",
    "# Get the list of countries for analysis\n",
    "country_codes = [\n",
    "    \"BE\",  # Belgium\n",
    "    \"EL\",  # Greece\n",
    "    \"LT\",  # Lithuania\n",
    "    \"PT\",  # Portugal\n",
    "    \"BG\",  # Bulgaria\n",
    "    \"ES\",  # Spain\n",
    "    \"LU\",  # Luxembourg\n",
    "    \"RO\",  # Romania\n",
    "    \"CZ\",  # Czechia\n",
    "    \"FR\",  # France\n",
    "    \"HU\",  # Hungary\n",
    "    \"SI\",  # Slovenia\n",
    "    \"DK\",  # Denmark\n",
    "    \"HR\",  # Croatia\n",
    "    \"MT\",  # Malta\n",
    "    \"SK\",  # Slovakia\n",
    "    \"DE\",  # Germany\n",
    "    \"IT\",  # Italy\n",
    "    \"NL\",  # Netherlands\n",
    "    \"FI\",  # Finland\n",
    "    \"EE\",  # Estonia\n",
    "    \"CY\",  # Cyprus\n",
    "    \"AT\",  # Austria\n",
    "    \"SE\",  # Sweden\n",
    "    \"IE\",  # Ireland\n",
    "    \"LV\",  # Latvia\n",
    "    \"PL\"   # Poland\n",
    "]\n",
    "\n",
    "\n",
    "# Get the list of indicators along with their filters for our analysis\n",
    "indicators = {\n",
    "    # 'prc_hpi_a': {\n",
    "    #     \"unit\": \"RCH_A_AVG\", # Annual average rate of change\n",
    "    #     \"purchase\": \"TOTAL\",\n",
    "    #     \"label\": \"house_price_index\"\n",
    "    # },  # House price index\n",
    "    # 'tipsho60': {\n",
    "    #     \"unit\": \"PTIR_LT_AVG\", # Price-to-income ratio relative to long-term average\n",
    "    #     \"label\": \"price_income_ratio\"\n",
    "    # }, # Standardised house price-to-income ratio\n",
    "    # 'sts_cobp_a': {\n",
    "    #     \"unit\": \"I21\", # Index, 2021=100\n",
    "    #     \"indic_bt\": \"BPRM_SQM\", # Building permits - m2 of useful floor area\n",
    "    #     \"cpa2_1\": \"CPA_F41001\", # Residential buildings\n",
    "    #     \"label\": \"building_permits\"\n",
    "    # }, # Building permits\n",
    "    # 'migr_imm1ctz': {\n",
    "    #     \"citizen\": \"TOTAL\",\n",
    "    #     \"agedef\": \"REACH\",\n",
    "    #     \"age\": \"TOTAL\",\n",
    "    #     \"sex\": \"T\",\n",
    "    #     \"label\": \"immigration\"\n",
    "    # }, # Immigration by age group, sex and citizenship\n",
    "    # 'ilc_lvps08': {\n",
    "    #     \"sex\": \"T\",\n",
    "    #     \"age\": \"Y18-34\", # From 18 to 34 years\n",
    "    #     \"label\": \"living_with_parents\"\n",
    "    # }, # Persons living with their parents or contributing/benefiting from the household income (population aged 18 to 34 years)\n",
    "    # 'sts_copi_a': {\n",
    "    #     \"unit\": \"PCH_SM\", # Percentage change compared to same period in previous year\n",
    "    #     \"indic_bt\": \"PRC_PRR\", # Producer prices\n",
    "    #     \"label\": \"construction_prices\"\n",
    "    # }, # Construction producer prices or costs, new residential buildings\n",
    "    # # 'crim_off_cat': {\n",
    "    # #     \"unit\": \"P_HTHAB\" # Per hundred thousand inhabitants\n",
    "    # # }, # Police-recorded offences by offence category\n",
    "    # 'earn_nt_net': {\n",
    "    #     \"ecase\": \"P1_NCH_AW100\", # Single person without children earning 100% of the average earning\n",
    "    #     \"currency\": \"EUR\",\n",
    "    #     \"estruct\": \"NET\", # Net earning\n",
    "    #     \"label\": \"net_earnings\"\n",
    "    # }, # Annual net earnings\n",
    "    # 'ilc_li48': {\n",
    "    #     \"deg_urb\": \"TOTAL\",\n",
    "    #     \"label\": \"poverty_rate\"\n",
    "    # }, # At-risk-of-poverty rate after deducting housing costs by degree of urbanisation\n",
    "    # 'tps00003': {\n",
    "    #     \"label\": \"pop_density\"\n",
    "    # }, # Population density\n",
    "    # 'tps00206': {\n",
    "    #     \"label\": \"marriage_rate\"\n",
    "    # }, # Crude marriage rate\n",
    "    'prc_hicp_midx': {\n",
    "        \"unit\": \"I15\",\n",
    "        \"coicop\": \"CP00\",\n",
    "        \"freq\": \"M\",\n",
    "        \"label\": \"inflation_rate\"\n",
    "    }, # HICP - inflation rate\n",
    "    'tps00019': {\n",
    "        \"indic_de\": \"GROWRT\", # Crude rate of total population change\n",
    "        \"label\": \"pop_change\"\n",
    "    }, # Population change - crude rates of total change, natural change and net migration plus adjustment\n",
    "    'tesem120': {\n",
    "        \"sex\": \"T\",\n",
    "        \"label\": \"unemployment_rate\"\n",
    "    }, # Unemployment rate by sex\n",
    "    # 'ert_bil_eur_a': {\n",
    "    #     \"unit\": \"\"\n",
    "    # }, # Euro/ECU exchange rates - annual data\n",
    "}\n",
    "\n",
    "\n",
    "for indicator in indicators:\n",
    "    indicators[indicator]['geo'] = country_codes\n",
    "    indicators[indicator]['time'] = time_period\n",
    "    if 'freq' not in indicators[indicator]:\n",
    "        indicators[indicator]['freq'] = 'A'\n",
    "\n",
    "print(indicators)"
   ]
  },
  {
   "cell_type": "code",
   "execution_count": null,
   "metadata": {},
   "outputs": [
    {
     "name": "stdout",
     "output_type": "stream",
     "text": [
      "Data retrieved from Eurostat\n"
     ]
    }
   ],
   "source": [
    "df = gdu.get_eurostat_data(indicators)\n",
    "print(\"Data retrieved from Eurostat\")"
   ]
  },
  {
   "cell_type": "code",
   "execution_count": 28,
   "metadata": {},
   "outputs": [
    {
     "name": "stdout",
     "output_type": "stream",
     "text": [
      "Data saved to data/eu_analysis_data.csv\n"
     ]
    }
   ],
   "source": [
    "df.to_csv(\"../data/raw/eu_analysis_data.csv\", index=False)\n",
    "print(\"Data saved to data/eu_analysis_data.csv\")"
   ]
  },
  {
   "cell_type": "code",
   "execution_count": 23,
   "metadata": {},
   "outputs": [
    {
     "data": {
      "text/html": [
       "<div>\n",
       "<style scoped>\n",
       "    .dataframe tbody tr th:only-of-type {\n",
       "        vertical-align: middle;\n",
       "    }\n",
       "\n",
       "    .dataframe tbody tr th {\n",
       "        vertical-align: top;\n",
       "    }\n",
       "\n",
       "    .dataframe thead th {\n",
       "        text-align: right;\n",
       "    }\n",
       "</style>\n",
       "<table border=\"1\" class=\"dataframe\">\n",
       "  <thead>\n",
       "    <tr style=\"text-align: right;\">\n",
       "      <th>indicator</th>\n",
       "      <th>geo</th>\n",
       "      <th>time</th>\n",
       "      <th>inflation_rate</th>\n",
       "      <th>pop_change</th>\n",
       "      <th>unemployment_rate</th>\n",
       "    </tr>\n",
       "  </thead>\n",
       "  <tbody>\n",
       "    <tr>\n",
       "      <th>0</th>\n",
       "      <td>AT</td>\n",
       "      <td>2005</td>\n",
       "      <td>82.299167</td>\n",
       "      <td>NaN</td>\n",
       "      <td>NaN</td>\n",
       "    </tr>\n",
       "    <tr>\n",
       "      <th>1</th>\n",
       "      <td>AT</td>\n",
       "      <td>2006</td>\n",
       "      <td>83.687500</td>\n",
       "      <td>NaN</td>\n",
       "      <td>NaN</td>\n",
       "    </tr>\n",
       "    <tr>\n",
       "      <th>2</th>\n",
       "      <td>AT</td>\n",
       "      <td>2007</td>\n",
       "      <td>85.529167</td>\n",
       "      <td>NaN</td>\n",
       "      <td>NaN</td>\n",
       "    </tr>\n",
       "    <tr>\n",
       "      <th>3</th>\n",
       "      <td>AT</td>\n",
       "      <td>2008</td>\n",
       "      <td>88.287500</td>\n",
       "      <td>NaN</td>\n",
       "      <td>NaN</td>\n",
       "    </tr>\n",
       "    <tr>\n",
       "      <th>4</th>\n",
       "      <td>AT</td>\n",
       "      <td>2009</td>\n",
       "      <td>88.642500</td>\n",
       "      <td>NaN</td>\n",
       "      <td>NaN</td>\n",
       "    </tr>\n",
       "  </tbody>\n",
       "</table>\n",
       "</div>"
      ],
      "text/plain": [
       "indicator geo  time  inflation_rate  pop_change  unemployment_rate\n",
       "0          AT  2005       82.299167         NaN                NaN\n",
       "1          AT  2006       83.687500         NaN                NaN\n",
       "2          AT  2007       85.529167         NaN                NaN\n",
       "3          AT  2008       88.287500         NaN                NaN\n",
       "4          AT  2009       88.642500         NaN                NaN"
      ]
     },
     "execution_count": 23,
     "metadata": {},
     "output_type": "execute_result"
    }
   ],
   "source": [
    "df.head()"
   ]
  },
  {
   "cell_type": "code",
   "execution_count": 26,
   "metadata": {},
   "outputs": [
    {
     "name": "stdout",
     "output_type": "stream",
     "text": [
      "<class 'pandas.core.frame.DataFrame'>\n",
      "RangeIndex: 513 entries, 0 to 512\n",
      "Data columns (total 5 columns):\n",
      " #   Column             Non-Null Count  Dtype  \n",
      "---  ------             --------------  -----  \n",
      " 0   geo                513 non-null    object \n",
      " 1   time               513 non-null    object \n",
      " 2   inflation_rate     513 non-null    float64\n",
      " 3   pop_change         324 non-null    float64\n",
      " 4   unemployment_rate  413 non-null    float64\n",
      "dtypes: float64(3), object(2)\n",
      "memory usage: 20.2+ KB\n"
     ]
    }
   ],
   "source": [
    "df.info()"
   ]
  },
  {
   "cell_type": "code",
   "execution_count": 27,
   "metadata": {},
   "outputs": [
    {
     "data": {
      "text/html": [
       "<div>\n",
       "<style scoped>\n",
       "    .dataframe tbody tr th:only-of-type {\n",
       "        vertical-align: middle;\n",
       "    }\n",
       "\n",
       "    .dataframe tbody tr th {\n",
       "        vertical-align: top;\n",
       "    }\n",
       "\n",
       "    .dataframe thead th {\n",
       "        text-align: right;\n",
       "    }\n",
       "</style>\n",
       "<table border=\"1\" class=\"dataframe\">\n",
       "  <thead>\n",
       "    <tr style=\"text-align: right;\">\n",
       "      <th>indicator</th>\n",
       "      <th>inflation_rate</th>\n",
       "      <th>pop_change</th>\n",
       "      <th>unemployment_rate</th>\n",
       "    </tr>\n",
       "  </thead>\n",
       "  <tbody>\n",
       "    <tr>\n",
       "      <th>count</th>\n",
       "      <td>513.000000</td>\n",
       "      <td>324.000000</td>\n",
       "      <td>413.000000</td>\n",
       "    </tr>\n",
       "    <tr>\n",
       "      <th>mean</th>\n",
       "      <td>99.707502</td>\n",
       "      <td>2.840432</td>\n",
       "      <td>8.560048</td>\n",
       "    </tr>\n",
       "    <tr>\n",
       "      <th>std</th>\n",
       "      <td>12.719322</td>\n",
       "      <td>9.416605</td>\n",
       "      <td>4.457581</td>\n",
       "    </tr>\n",
       "    <tr>\n",
       "      <th>min</th>\n",
       "      <td>64.904167</td>\n",
       "      <td>-23.600000</td>\n",
       "      <td>2.000000</td>\n",
       "    </tr>\n",
       "    <tr>\n",
       "      <th>25%</th>\n",
       "      <td>92.191667</td>\n",
       "      <td>-2.625000</td>\n",
       "      <td>5.700000</td>\n",
       "    </tr>\n",
       "    <tr>\n",
       "      <th>50%</th>\n",
       "      <td>99.941667</td>\n",
       "      <td>2.500000</td>\n",
       "      <td>7.400000</td>\n",
       "    </tr>\n",
       "    <tr>\n",
       "      <th>75%</th>\n",
       "      <td>104.032500</td>\n",
       "      <td>6.525000</td>\n",
       "      <td>10.000000</td>\n",
       "    </tr>\n",
       "    <tr>\n",
       "      <th>max</th>\n",
       "      <td>160.593333</td>\n",
       "      <td>43.400000</td>\n",
       "      <td>27.800000</td>\n",
       "    </tr>\n",
       "  </tbody>\n",
       "</table>\n",
       "</div>"
      ],
      "text/plain": [
       "indicator  inflation_rate  pop_change  unemployment_rate\n",
       "count          513.000000  324.000000         413.000000\n",
       "mean            99.707502    2.840432           8.560048\n",
       "std             12.719322    9.416605           4.457581\n",
       "min             64.904167  -23.600000           2.000000\n",
       "25%             92.191667   -2.625000           5.700000\n",
       "50%             99.941667    2.500000           7.400000\n",
       "75%            104.032500    6.525000          10.000000\n",
       "max            160.593333   43.400000          27.800000"
      ]
     },
     "execution_count": 27,
     "metadata": {},
     "output_type": "execute_result"
    }
   ],
   "source": [
    "df.describe()"
   ]
  }
 ],
 "metadata": {
  "kernelspec": {
   "display_name": "venv",
   "language": "python",
   "name": "python3"
  },
  "language_info": {
   "codemirror_mode": {
    "name": "ipython",
    "version": 3
   },
   "file_extension": ".py",
   "mimetype": "text/x-python",
   "name": "python",
   "nbconvert_exporter": "python",
   "pygments_lexer": "ipython3",
   "version": "3.12.1"
  }
 },
 "nbformat": 4,
 "nbformat_minor": 2
}
