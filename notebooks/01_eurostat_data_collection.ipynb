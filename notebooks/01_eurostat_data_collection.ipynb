{
 "cells": [
  {
   "cell_type": "markdown",
   "metadata": {},
   "source": [
    "# Importing Libraries"
   ]
  },
  {
   "cell_type": "code",
   "execution_count": null,
   "metadata": {},
   "outputs": [],
   "source": [
    "import pandas as pd\n",
    "import sys\n",
    "import os"
   ]
  },
  {
   "cell_type": "code",
   "execution_count": null,
   "metadata": {},
   "outputs": [],
   "source": [
    "project_path = os.path.abspath(os.path.join(os.getcwd(), \"..\"))\n",
    "if project_path not in sys.path:\n",
    "    sys.path.append(project_path)\n",
    "\n",
    "import utils.get_data_utils as gdu"
   ]
  },
  {
   "cell_type": "markdown",
   "metadata": {},
   "source": [
    "# Data indicators and filters metadata"
   ]
  },
  {
   "cell_type": "code",
   "execution_count": null,
   "metadata": {},
   "outputs": [],
   "source": [
    "# Get the list of years for analysis\n",
    "time_period = [ str(t) for t in range(2010, 2024)]\n",
    "\n",
    "# Get the list of countries for analysis\n",
    "country_codes = [\n",
    "    \"BE\",  # Belgium\n",
    "    \"EL\",  # Greece\n",
    "    \"LT\",  # Lithuania\n",
    "    \"PT\",  # Portugal\n",
    "    \"BG\",  # Bulgaria\n",
    "    \"ES\",  # Spain\n",
    "    \"LU\",  # Luxembourg\n",
    "    \"RO\",  # Romania\n",
    "    \"CZ\",  # Czechia\n",
    "    \"FR\",  # France\n",
    "    \"HU\",  # Hungary\n",
    "    \"SI\",  # Slovenia\n",
    "    \"DK\",  # Denmark\n",
    "    \"HR\",  # Croatia\n",
    "    \"MT\",  # Malta\n",
    "    \"SK\",  # Slovakia\n",
    "    \"DE\",  # Germany\n",
    "    \"IT\",  # Italy\n",
    "    \"NL\",  # Netherlands\n",
    "    \"FI\",  # Finland\n",
    "    \"EE\",  # Estonia\n",
    "    \"CY\",  # Cyprus\n",
    "    \"AT\",  # Austria\n",
    "    \"SE\",  # Sweden\n",
    "    \"IE\",  # Ireland\n",
    "    \"LV\",  # Latvia\n",
    "    \"PL\"   # Poland\n",
    "]\n",
    "\n",
    "\n",
    "# Get the list of indicators along with their filters for our analysis\n",
    "indicators = {\n",
    "    'prc_hpi_a': { # House price index\n",
    "        \"unit\": \"RCH_A_AVG\", # Annual average rate of change\n",
    "        \"purchase\": \"TOTAL\",\n",
    "        \"label\": \"house_price_index\"\n",
    "    },  \n",
    "    'tipsho60': { # Standardised house price-to-income ratio\n",
    "        \"unit\": \"PTIR_LT_AVG\", # Price-to-income ratio relative to long-term average\n",
    "        \"label\": \"price_income_ratio\"\n",
    "    }, \n",
    "    'sts_cobp_a': { # Building permits\n",
    "        \"unit\": \"I21\", # Index, 2021=100\n",
    "        \"indic_bt\": \"BPRM_SQM\", # Building permits - m2 of useful floor area\n",
    "        \"cpa2_1\": \"CPA_F41001\", # Residential buildings\n",
    "        \"label\": \"building_permits\"\n",
    "    }, \n",
    "    'migr_imm1ctz': { # Immigration by age group, sex and citizenship\n",
    "        \"citizen\": \"TOTAL\",\n",
    "        \"agedef\": \"REACH\",\n",
    "        \"age\": \"TOTAL\",\n",
    "        \"sex\": \"T\",\n",
    "        \"label\": \"immigration\"\n",
    "    }, \n",
    "    'sts_copi_a': { # Construction producer prices or costs, new residential buildings\n",
    "        \"unit\": \"PCH_SM\", # Percentage change compared to same period in previous year\n",
    "        \"indic_bt\": \"PRC_PRR\", # Producer prices\n",
    "        \"label\": \"construction_prices\"\n",
    "    }, \n",
    "    'ilc_mddw03': { # Crime, violence or vandalism in the area\n",
    "        \"hhtyp\": \"TOTAL\",\n",
    "        \"incgrp\": \"TOTAL\",\n",
    "        \"label\": \"crime_rate\"\n",
    "    }, \n",
    "    'earn_nt_net': { # Annual net earnings\n",
    "        \"ecase\": \"P1_NCH_AW100\", # Single person without children earning 100% of the average earning\n",
    "        \"currency\": \"EUR\",\n",
    "        \"estruct\": \"NET\", # Net earning\n",
    "        \"label\": \"net_earnings\"\n",
    "    }, \n",
    "    'ilc_li48': { # At-risk-of-poverty rate after deducting housing costs by degree of urbanisation\n",
    "        \"deg_urb\": \"TOTAL\",\n",
    "        \"label\": \"poverty_rate\"\n",
    "    }, \n",
    "    'tps00003': { # Population density\n",
    "        \"label\": \"pop_density\"\n",
    "    }, \n",
    "    'tps00206': { # Crude marriage rate\n",
    "        \"label\": \"marriage_rate\"\n",
    "    }, \n",
    "    'prc_hicp_midx': { # HICP - inflation rate\n",
    "        \"unit\": \"I15\",\n",
    "        \"coicop\": \"CP00\",\n",
    "        \"freq\": \"M\",\n",
    "        \"label\": \"inflation_rate\"\n",
    "    }, \n",
    "    'tps00019': { # Population change - crude rates of total change, natural change and net migration plus adjustment\n",
    "        \"indic_de\": \"GROWRT\", # Crude rate of total population change\n",
    "        \"label\": \"pop_change\"\n",
    "    }, \n",
    "    'tesem120': { # Unemployment rate by sex\n",
    "        \"sex\": \"T\",\n",
    "        \"label\": \"unemployment_rate\"\n",
    "    }, \n",
    "    'ilc_mdes06':{ # Arrears on mortgage or rent payments\n",
    "        \"hhtyp\": \"TOTAL\",\n",
    "        \"incgrp\": \"TOTAL\",\n",
    "        \"label\": \"late_payment_rate\"\n",
    "    }\n",
    "}\n",
    "\n",
    "\n",
    "for indicator in indicators:\n",
    "    indicators[indicator]['geo'] = country_codes\n",
    "    indicators[indicator]['time'] = time_period\n",
    "    if 'freq' not in indicators[indicator]:\n",
    "        indicators[indicator]['freq'] = 'A'\n",
    "\n",
    "print(indicators)"
   ]
  },
  {
   "cell_type": "markdown",
   "metadata": {},
   "source": [
    "# Downloading and saving raw data"
   ]
  },
  {
   "cell_type": "code",
   "execution_count": null,
   "metadata": {},
   "outputs": [],
   "source": [
    "df = gdu.get_eurostat_data(indicators)\n",
    "print(\"Data retrieved from Eurostat\")"
   ]
  },
  {
   "cell_type": "code",
   "execution_count": null,
   "metadata": {},
   "outputs": [],
   "source": [
    "df.to_csv(\"../data/raw/eu_analysis_data.csv\", index=False)\n",
    "print(\"Data saved to data/eu_analysis_data.csv\")"
   ]
  },
  {
   "cell_type": "markdown",
   "metadata": {},
   "source": [
    "# Data Cleaning"
   ]
  },
  {
   "cell_type": "code",
   "execution_count": null,
   "metadata": {},
   "outputs": [],
   "source": [
    "df.head()"
   ]
  },
  {
   "cell_type": "code",
   "execution_count": null,
   "metadata": {},
   "outputs": [],
   "source": [
    "df.info()"
   ]
  },
  {
   "cell_type": "code",
   "execution_count": null,
   "metadata": {},
   "outputs": [],
   "source": [
    "df.isnull().sum()"
   ]
  }
 ],
 "metadata": {
  "kernelspec": {
   "display_name": "venv",
   "language": "python",
   "name": "python3"
  },
  "language_info": {
   "codemirror_mode": {
    "name": "ipython",
    "version": 3
   },
   "file_extension": ".py",
   "mimetype": "text/x-python",
   "name": "python",
   "nbconvert_exporter": "python",
   "pygments_lexer": "ipython3",
   "version": "3.12.1"
  }
 },
 "nbformat": 4,
 "nbformat_minor": 2
}
