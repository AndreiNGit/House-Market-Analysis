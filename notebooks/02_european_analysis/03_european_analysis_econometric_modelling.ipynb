{
 "cells": [
  {
   "cell_type": "code",
   "execution_count": 1,
   "metadata": {},
   "outputs": [],
   "source": [
    "import pandas as pd\n",
    "import matplotlib.pyplot as plt\n",
    "import seaborn as sns\n",
    "import numpy as np\n",
    "from statsmodels.stats.outliers_influence import variance_inflation_factor\n",
    "from linearmodels.panel import PanelOLS, RandomEffects\n",
    "import statsmodels.api as sm\n",
    "from scipy import stats\n",
    "from statsmodels.stats.diagnostic import het_breuschpagan, linear_reset\n",
    "from statsmodels.stats.stattools import durbin_watson, jarque_bera\n",
    "from statsmodels.stats.outliers_influence import variance_inflation_factor\n",
    "\n",
    "sns.set_style(\"whitegrid\")"
   ]
  },
  {
   "cell_type": "code",
   "execution_count": 156,
   "metadata": {},
   "outputs": [],
   "source": [
    "df = pd.read_csv('../data/processed/02_eda_cleaned_eu_analysis_data.csv')"
   ]
  },
  {
   "cell_type": "code",
   "execution_count": 157,
   "metadata": {},
   "outputs": [],
   "source": [
    "df = df.set_index(['geo', 'time'])"
   ]
  },
  {
   "cell_type": "code",
   "execution_count": 158,
   "metadata": {},
   "outputs": [],
   "source": [
    "X = df.drop([\"house_price_index\"], axis=1)\n",
    "y = df[\"house_price_index\"]"
   ]
  },
  {
   "cell_type": "code",
   "execution_count": 159,
   "metadata": {},
   "outputs": [
    {
     "name": "stdout",
     "output_type": "stream",
     "text": [
      "Hausman test statistic: 66.7578\n",
      "p-value: 0.0000\n"
     ]
    }
   ],
   "source": [
    "fe_model = PanelOLS(y, X, entity_effects=True)\n",
    "fe_res = fe_model.fit()\n",
    "\n",
    "re_model = RandomEffects(y, X)\n",
    "re_res = re_model.fit()\n",
    "\n",
    "def hausman_test(fe_results, re_results, reg=1e-8):\n",
    "    # Extragem coeficienții și eliminăm constantul, dacă există\n",
    "    b_fe = fe_results.params.copy()\n",
    "    b_re = re_results.params.copy()\n",
    "\n",
    "    for name in ['const', 'Intercept']:\n",
    "        if name in b_fe.index:\n",
    "            b_fe = b_fe.drop(name)\n",
    "        if name in b_re.index:\n",
    "            b_re = b_re.drop(name)\n",
    "\n",
    "    # Aliniem coeficienții comuni între modele\n",
    "    common_index = b_fe.index.intersection(b_re.index)\n",
    "    b_fe = b_fe[common_index]\n",
    "    b_re = b_re[common_index]\n",
    "\n",
    "    # Calculăm diferența coeficienților\n",
    "    b_diff = b_fe - b_re\n",
    "\n",
    "    # Extragem matricile de covarianță pentru coeficienții comuni\n",
    "    cov_fe = fe_results.cov.loc[common_index, common_index]\n",
    "    cov_re = re_results.cov.loc[common_index, common_index]\n",
    "\n",
    "    # Diferența matricilor de covarianță\n",
    "    cov_diff = cov_fe - cov_re\n",
    "\n",
    "    # Adăugăm regularizare pe diagonală\n",
    "    cov_diff_reg = cov_diff + reg * np.eye(len(common_index))\n",
    "\n",
    "    # Calculăm statistica Hausman folosind pseudoinversa\n",
    "    stat = np.dot(b_diff.T, np.linalg.pinv(cov_diff_reg)).dot(b_diff)\n",
    "\n",
    "    # Gradele de libertate: numărul de coeficienți comparați\n",
    "    df_diff = len(common_index)\n",
    "\n",
    "    # Calculăm p-value pe baza distribuției chi-pătrat\n",
    "    p_value = stats.chi2.sf(stat, df_diff)\n",
    "    return stat, p_value\n",
    "\n",
    "hausman_stat, hausman_p = hausman_test(fe_res, re_res)\n",
    "print(f\"Hausman test statistic: {hausman_stat:.4f}\")\n",
    "print(f\"p-value: {hausman_p:.4f}\")"
   ]
  },
  {
   "cell_type": "code",
   "execution_count": 160,
   "metadata": {},
   "outputs": [
    {
     "name": "stdout",
     "output_type": "stream",
     "text": [
      "                          PanelOLS Estimation Summary                           \n",
      "================================================================================\n",
      "Dep. Variable:      house_price_index   R-squared:                        0.5587\n",
      "Estimator:                   PanelOLS   R-squared (Between):             -2.5699\n",
      "No. Observations:                 364   R-squared (Within):               0.5587\n",
      "Date:                Mon, Mar 03 2025   R-squared (Overall):             -0.7186\n",
      "Time:                        18:29:44   Log-likelihood                   -985.35\n",
      "Cov. Estimator:            Unadjusted                                           \n",
      "                                        F-statistic:                      70.049\n",
      "Entities:                          26   P-value                           0.0000\n",
      "Avg Obs:                       14.000   Distribution:                   F(6,332)\n",
      "Min Obs:                       14.000                                           \n",
      "Max Obs:                       14.000   F-statistic (robust):             70.049\n",
      "                                        P-value                           0.0000\n",
      "Time periods:                      14   Distribution:                   F(6,332)\n",
      "Avg Obs:                       26.000                                           \n",
      "Min Obs:                       26.000                                           \n",
      "Max Obs:                       26.000                                           \n",
      "                                                                                \n",
      "                                  Parameter Estimates                                  \n",
      "=======================================================================================\n",
      "                     Parameter  Std. Err.     T-stat    P-value    Lower CI    Upper CI\n",
      "---------------------------------------------------------------------------------------\n",
      "building_permits        0.1004     0.0101     9.9505     0.0000      0.0806      0.1203\n",
      "construction_prices     0.2622     0.0486     5.3947     0.0000      0.1666      0.3579\n",
      "gdp_per_capita       2.099e-05  4.267e-05     0.4920     0.6231  -6.295e-05      0.0001\n",
      "pop_change              0.0559     0.0437     1.2793     0.2017     -0.0300      0.1417\n",
      "pop_density             0.0037     0.0088     0.4143     0.6789     -0.0137      0.0210\n",
      "unemployment_rate      -0.8069     0.1019    -7.9159     0.0000     -1.0074     -0.6064\n",
      "=======================================================================================\n",
      "\n",
      "F-test for Poolability: 4.2478\n",
      "P-value: 0.0000\n",
      "Distribution: F(25,332)\n",
      "\n",
      "Included effects: Entity\n"
     ]
    }
   ],
   "source": [
    "fe_model = PanelOLS(y, X, entity_effects=True)\n",
    "\n",
    "fe_res = fe_model.fit()\n",
    "\n",
    "print(fe_res.summary)"
   ]
  },
  {
   "cell_type": "code",
   "execution_count": 161,
   "metadata": {},
   "outputs": [],
   "source": [
    "\n",
    "X[\"log_gdp_per_capita\"] = np.log1p(X[\"gdp_per_capita\"])\n",
    "X[\"log_pop_density\"] = np.log1p(X[\"pop_density\"])\n",
    "\n",
    "# Pentru pop_change, aplicăm transformarea logaritmică semn-abs\n",
    "def signed_log_transform(x):\n",
    "    return np.sign(x) * np.log1p(np.abs(x))\n",
    "\n",
    "X[\"log_pop_change\"] = X[\"pop_change\"].apply(signed_log_transform)\n",
    "\n",
    "X.drop([\"gdp_per_capita\", \"pop_density\", \"pop_change\"], axis=1, inplace=True)"
   ]
  },
  {
   "cell_type": "code",
   "execution_count": 162,
   "metadata": {},
   "outputs": [
    {
     "name": "stdout",
     "output_type": "stream",
     "text": [
      "                          PanelOLS Estimation Summary                           \n",
      "================================================================================\n",
      "Dep. Variable:      house_price_index   R-squared:                        0.5674\n",
      "Estimator:                   PanelOLS   R-squared (Between):             -309.40\n",
      "No. Observations:                 364   R-squared (Within):               0.5674\n",
      "Date:                Mon, Mar 03 2025   R-squared (Overall):             -125.98\n",
      "Time:                        18:29:45   Log-likelihood                   -981.71\n",
      "Cov. Estimator:            Unadjusted                                           \n",
      "                                        F-statistic:                      72.583\n",
      "Entities:                          26   P-value                           0.0000\n",
      "Avg Obs:                       14.000   Distribution:                   F(6,332)\n",
      "Min Obs:                       14.000                                           \n",
      "Max Obs:                       14.000   F-statistic (robust):             72.583\n",
      "                                        P-value                           0.0000\n",
      "Time periods:                      14   Distribution:                   F(6,332)\n",
      "Avg Obs:                       26.000                                           \n",
      "Min Obs:                       26.000                                           \n",
      "Max Obs:                       26.000                                           \n",
      "                                                                                \n",
      "                                  Parameter Estimates                                  \n",
      "=======================================================================================\n",
      "                     Parameter  Std. Err.     T-stat    P-value    Lower CI    Upper CI\n",
      "---------------------------------------------------------------------------------------\n",
      "building_permits        0.1041     0.0100     10.411     0.0000      0.0845      0.1238\n",
      "construction_prices     0.2213     0.0517     4.2807     0.0000      0.1196      0.3230\n",
      "unemployment_rate      -0.6412     0.1250    -5.1289     0.0000     -0.8871     -0.3953\n",
      "log_gdp_per_capita      4.1472     1.8664     2.2220     0.0270      0.4757      7.8187\n",
      "log_pop_density         9.6555     7.4467     1.2966     0.1957     -4.9932      24.304\n",
      "log_pop_change          0.2066     0.2348     0.8801     0.3795     -0.2552      0.6685\n",
      "=======================================================================================\n",
      "\n",
      "F-test for Poolability: 4.5600\n",
      "P-value: 0.0000\n",
      "Distribution: F(25,332)\n",
      "\n",
      "Included effects: Entity\n"
     ]
    }
   ],
   "source": [
    "fe_model = PanelOLS(y, X, entity_effects=True)\n",
    "\n",
    "fe_res = fe_model.fit()\n",
    "\n",
    "print(fe_res.summary)"
   ]
  },
  {
   "cell_type": "code",
   "execution_count": 163,
   "metadata": {},
   "outputs": [],
   "source": [
    "X.drop([\"log_pop_change\", \"log_pop_density\"], axis=1, inplace=True)"
   ]
  },
  {
   "cell_type": "code",
   "execution_count": 164,
   "metadata": {},
   "outputs": [
    {
     "name": "stdout",
     "output_type": "stream",
     "text": [
      "                          PanelOLS Estimation Summary                           \n",
      "================================================================================\n",
      "Dep. Variable:      house_price_index   R-squared:                        0.5643\n",
      "Estimator:                   PanelOLS   R-squared (Between):             -77.425\n",
      "No. Observations:                 364   R-squared (Within):               0.5643\n",
      "Date:                Mon, Mar 03 2025   R-squared (Overall):             -31.276\n",
      "Time:                        18:29:45   Log-likelihood                   -983.00\n",
      "Cov. Estimator:            Unadjusted                                           \n",
      "                                        F-statistic:                      108.17\n",
      "Entities:                          26   P-value                           0.0000\n",
      "Avg Obs:                       14.000   Distribution:                   F(4,334)\n",
      "Min Obs:                       14.000                                           \n",
      "Max Obs:                       14.000   F-statistic (robust):             108.17\n",
      "                                        P-value                           0.0000\n",
      "Time periods:                      14   Distribution:                   F(4,334)\n",
      "Avg Obs:                       26.000                                           \n",
      "Min Obs:                       26.000                                           \n",
      "Max Obs:                       26.000                                           \n",
      "                                                                                \n",
      "                                  Parameter Estimates                                  \n",
      "=======================================================================================\n",
      "                     Parameter  Std. Err.     T-stat    P-value    Lower CI    Upper CI\n",
      "---------------------------------------------------------------------------------------\n",
      "building_permits        0.1037     0.0100     10.369     0.0000      0.0841      0.1234\n",
      "construction_prices     0.2199     0.0517     4.2564     0.0000      0.1183      0.3215\n",
      "unemployment_rate      -0.6332     0.1225    -5.1703     0.0000     -0.8742     -0.3923\n",
      "log_gdp_per_capita      4.7523     1.8244     2.6048     0.0096      1.1635      8.3410\n",
      "=======================================================================================\n",
      "\n",
      "F-test for Poolability: 5.0096\n",
      "P-value: 0.0000\n",
      "Distribution: F(25,334)\n",
      "\n",
      "Included effects: Entity\n"
     ]
    }
   ],
   "source": [
    "fe_model = PanelOLS(y, X, entity_effects=True)\n",
    "\n",
    "fe_res = fe_model.fit()\n",
    "\n",
    "print(fe_res.summary)"
   ]
  },
  {
   "cell_type": "code",
   "execution_count": 171,
   "metadata": {},
   "outputs": [
    {
     "name": "stdout",
     "output_type": "stream",
     "text": [
      "=== Ramsey RESET test ===\n",
      "<F test: F=13.592887390524087, p=0.00026222311556138583, df_denom=358, df_num=1>\n",
      "\n",
      "\n",
      "=== Breusch-Pagan test ===\n",
      "LM Statistic: 19.359759162860847\n",
      "LM Test p-value: 0.0006678025425503758\n",
      "F-Statistic: 5.0416004255517\n",
      "F-Test p-value: 0.0005789237607437721\n",
      "\n",
      "\n",
      "=== Durbin-Watson test ===\n",
      "Durbin-Watson statistic: 1.6731174416737122\n",
      "\n",
      "\n",
      "=== Variance Inflation Factors (VIF) ===\n",
      "               Feature         VIF\n",
      "0                const  314.736287\n",
      "1     building_permits    1.034414\n",
      "2  construction_prices    1.185060\n",
      "3    unemployment_rate    1.349863\n",
      "4   log_gdp_per_capita    1.123417\n",
      "\n",
      "\n",
      "=== Jarque-Bera test ===\n",
      "JB Statistic: 91.49120518670712\n",
      "JB p-value: 1.3581171154265678e-20\n",
      "Skewness: -0.12160985587963477\n",
      "Kurtosis: 5.444019502168352\n",
      "\n",
      "\n"
     ]
    }
   ],
   "source": [
    "# 1. Modelul pooled OLS pentru testul RESET\n",
    "pooled_exog = sm.add_constant(X)\n",
    "pooled_model = sm.OLS(y, pooled_exog).fit()\n",
    "reset_test = linear_reset(pooled_model, power=2, use_f=True)\n",
    "print(\"=== Ramsey RESET test ===\")\n",
    "print(reset_test)\n",
    "print(\"\\n\")\n",
    "\n",
    "# 2. Testul de heteroscedasticitate (Breusch-Pagan)\n",
    "bp_test = het_breuschpagan(fe_res.resids, pooled_exog)\n",
    "print(\"=== Breusch-Pagan test ===\")\n",
    "print(\"LM Statistic:\", bp_test[0])\n",
    "print(\"LM Test p-value:\", bp_test[1])\n",
    "print(\"F-Statistic:\", bp_test[2])\n",
    "print(\"F-Test p-value:\", bp_test[3])\n",
    "print(\"\\n\")\n",
    "\n",
    "# 3. Testul de autocorelare (Durbin-Watson, )\n",
    "dw_stat = durbin_watson(fe_res.resids)\n",
    "print(\"=== Durbin-Watson test ===\")\n",
    "print(\"Durbin-Watson statistic:\", dw_stat)\n",
    "print(\"\\n\")\n",
    "\n",
    "# 4. Testul VIF\n",
    "vif_data = pd.DataFrame()\n",
    "vif_data[\"Feature\"] = pooled_exog.columns\n",
    "vif_data[\"VIF\"] = [variance_inflation_factor(pooled_exog.values, i) for i in range(pooled_exog.shape[1])]\n",
    "print(\"=== Variance Inflation Factors (VIF) ===\")\n",
    "print(vif_data)\n",
    "print(\"\\n\")\n",
    "\n",
    "\n",
    "# 5. Testul de normalitate al reziduurilor (Jarque-Bera)\n",
    "jb_stat, jb_p, skew, kurtosis = jarque_bera(fe_res.resids)\n",
    "print(\"=== Jarque-Bera test ===\")\n",
    "print(\"JB Statistic:\", jb_stat)\n",
    "print(\"JB p-value:\", jb_p)\n",
    "print(\"Skewness:\", skew)\n",
    "print(\"Kurtosis:\", kurtosis)\n",
    "print(\"\\n\")"
   ]
  },
  {
   "cell_type": "code",
   "execution_count": 166,
   "metadata": {},
   "outputs": [
    {
     "name": "stdout",
     "output_type": "stream",
     "text": [
      "                          PanelOLS Estimation Summary                           \n",
      "================================================================================\n",
      "Dep. Variable:      house_price_index   R-squared:                        0.5643\n",
      "Estimator:                   PanelOLS   R-squared (Between):             -77.425\n",
      "No. Observations:                 364   R-squared (Within):               0.5643\n",
      "Date:                Mon, Mar 03 2025   R-squared (Overall):             -31.276\n",
      "Time:                        18:29:45   Log-likelihood                   -983.00\n",
      "Cov. Estimator:             Clustered                                           \n",
      "                                        F-statistic:                      108.17\n",
      "Entities:                          26   P-value                           0.0000\n",
      "Avg Obs:                       14.000   Distribution:                   F(4,334)\n",
      "Min Obs:                       14.000                                           \n",
      "Max Obs:                       14.000   F-statistic (robust):             73.285\n",
      "                                        P-value                           0.0000\n",
      "Time periods:                      14   Distribution:                   F(4,334)\n",
      "Avg Obs:                       26.000                                           \n",
      "Min Obs:                       26.000                                           \n",
      "Max Obs:                       26.000                                           \n",
      "                                                                                \n",
      "                                  Parameter Estimates                                  \n",
      "=======================================================================================\n",
      "                     Parameter  Std. Err.     T-stat    P-value    Lower CI    Upper CI\n",
      "---------------------------------------------------------------------------------------\n",
      "building_permits        0.1037     0.0136     7.6058     0.0000      0.0769      0.1306\n",
      "construction_prices     0.2199     0.0968     2.2709     0.0238      0.0294      0.4104\n",
      "unemployment_rate      -0.6332     0.1439    -4.4004     0.0000     -0.9163     -0.3502\n",
      "log_gdp_per_capita      4.7523     1.9533     2.4329     0.0155      0.9098      8.5947\n",
      "=======================================================================================\n",
      "\n",
      "F-test for Poolability: 5.0096\n",
      "P-value: 0.0000\n",
      "Distribution: F(25,334)\n",
      "\n",
      "Included effects: Entity\n"
     ]
    }
   ],
   "source": [
    "fe_model = fe_model.fit(cov_type='clustered', cluster_entity=True)\n",
    "print(fe_model.summary)"
   ]
  },
  {
   "cell_type": "code",
   "execution_count": 167,
   "metadata": {},
   "outputs": [
    {
     "name": "stdout",
     "output_type": "stream",
     "text": [
      "=== Ramsey RESET test ===\n",
      "<F test: F=13.592887390524087, p=0.00026222311556138583, df_denom=358, df_num=1>\n",
      "\n",
      "\n",
      "=== Breusch-Pagan test ===\n",
      "LM Statistic: 19.359759162860847\n",
      "LM Test p-value: 0.0006678025425503758\n",
      "F-Statistic: 5.0416004255517\n",
      "F-Test p-value: 0.0005789237607437721\n",
      "\n",
      "\n",
      "=== Durbin-Watson test ===\n",
      "Durbin-Watson statistic: 1.6731174416737122\n",
      "\n",
      "\n",
      "=== Variance Inflation Factors (VIF) ===\n",
      "               Feature         VIF\n",
      "0                const  314.736287\n",
      "1     building_permits    1.034414\n",
      "2  construction_prices    1.185060\n",
      "3    unemployment_rate    1.349863\n",
      "4   log_gdp_per_capita    1.123417\n",
      "\n",
      "\n",
      "=== Jarque-Bera test ===\n",
      "JB Statistic: 91.49120518670712\n",
      "JB p-value: 1.3581171154265678e-20\n",
      "Skewness: -0.12160985587963477\n",
      "Kurtosis: 5.444019502168352\n",
      "\n",
      "\n"
     ]
    }
   ],
   "source": [
    "# 1. Modelul pooled OLS pentru testul RESET\n",
    "pooled_exog = sm.add_constant(X)\n",
    "pooled_model = sm.OLS(y, pooled_exog).fit()\n",
    "reset_test = linear_reset(pooled_model, power=2, use_f=True)\n",
    "print(\"=== Ramsey RESET test ===\")\n",
    "print(reset_test)\n",
    "print(\"\\n\")\n",
    "\n",
    "# 2. Testul de heteroscedasticitate (Breusch-Pagan)\n",
    "bp_test = het_breuschpagan(fe_res.resids, pooled_exog)\n",
    "print(\"=== Breusch-Pagan test ===\")\n",
    "print(\"LM Statistic:\", bp_test[0])\n",
    "print(\"LM Test p-value:\", bp_test[1])\n",
    "print(\"F-Statistic:\", bp_test[2])\n",
    "print(\"F-Test p-value:\", bp_test[3])\n",
    "print(\"\\n\")\n",
    "\n",
    "# 3. Testul de autocorelare (Durbin-Watson, )\n",
    "dw_stat = durbin_watson(fe_res.resids)\n",
    "print(\"=== Durbin-Watson test ===\")\n",
    "print(\"Durbin-Watson statistic:\", dw_stat)\n",
    "print(\"\\n\")\n",
    "\n",
    "# 4. Testul VIF\n",
    "vif_data = pd.DataFrame()\n",
    "vif_data[\"Feature\"] = pooled_exog.columns\n",
    "vif_data[\"VIF\"] = [variance_inflation_factor(pooled_exog.values, i) for i in range(pooled_exog.shape[1])]\n",
    "print(\"=== Variance Inflation Factors (VIF) ===\")\n",
    "print(vif_data)\n",
    "print(\"\\n\")\n",
    "\n",
    "\n",
    "# 5. Testul de normalitate al reziduurilor (Jarque-Bera)\n",
    "jb_stat, jb_p, skew, kurtosis = jarque_bera(fe_res.resids)\n",
    "print(\"=== Jarque-Bera test ===\")\n",
    "print(\"JB Statistic:\", jb_stat)\n",
    "print(\"JB p-value:\", jb_p)\n",
    "print(\"Skewness:\", skew)\n",
    "print(\"Kurtosis:\", kurtosis)\n",
    "print(\"\\n\")"
   ]
  },
  {
   "cell_type": "code",
   "execution_count": null,
   "metadata": {},
   "outputs": [
    {
     "name": "stdout",
     "output_type": "stream",
     "text": [
      "Random Forest MSE: 12.7168\n"
     ]
    },
    {
     "name": "stderr",
     "output_type": "stream",
     "text": [
      "C:\\Users\\nicus\\AppData\\Local\\Temp\\ipykernel_36028\\343210582.py:19: FutureWarning: \n",
      "\n",
      "Passing `palette` without assigning `hue` is deprecated and will be removed in v0.14.0. Assign the `y` variable to `hue` and set `legend=False` for the same effect.\n",
      "\n",
      "  sns.barplot(x=importances[indices], y=X.columns[indices], palette=\"viridis\")\n"
     ]
    },
    {
     "data": {
      "image/png": "[encoded data removed]",
      "text/plain": [
       "<Figure size 1000x600 with 1 Axes>"
      ]
     },
     "metadata": {},
     "output_type": "display_data"
    }
   ],
   "source": [
    "from sklearn.model_selection import train_test_split\n",
    "from sklearn.ensemble import RandomForestRegressor\n",
    "from sklearn.metrics import mean_squared_error\n",
    "\n",
    "\n",
    "X_train, X_test, y_train, y_test = train_test_split(X, y, test_size=0.2, random_state=42)\n",
    "\n",
    "rf_model = RandomForestRegressor(n_estimators=100, random_state=42)\n",
    "rf_model.fit(X_train, y_train)\n",
    "\n",
    "y_pred = rf_model.predict(X_test)\n",
    "mse = mean_squared_error(y_test, y_pred)\n",
    "print(f\"Random Forest MSE: {mse:.4f}\")\n",
    "\n",
    "importances = rf_model.feature_importances_\n",
    "indices = np.argsort(importances)[::-1]\n",
    "\n",
    "plt.figure(figsize=(10, 6))\n",
    "sns.barplot(x=importances[indices], y=X.columns[indices], palette=\"viridis\")\n",
    "plt.title(\"Feature Importances\")\n",
    "plt.show()"
   ]
  },
  {
   "cell_type": "code",
   "execution_count": 169,
   "metadata": {},
   "outputs": [
    {
     "name": "stdout",
     "output_type": "stream",
     "text": [
      "R² (metoda score): 0.6182844163497676\n",
      "R² (r2_score): 0.6182844163497676\n"
     ]
    }
   ],
   "source": [
    "from sklearn.metrics import r2_score\n",
    "\n",
    "\n",
    "# Calculăm R² folosind metoda score\n",
    "r2_method = rf_model.score(X_test, y_test)\n",
    "\n",
    "# Calculăm R² folosind r2_score\n",
    "r2_metric = r2_score(y_test, y_pred)\n",
    "\n",
    "print(\"R² (metoda score):\", r2_method)\n",
    "print(\"R² (r2_score):\", r2_metric)"
   ]
  },
  {
   "cell_type": "code",
   "execution_count": 170,
   "metadata": {},
   "outputs": [
    {
     "name": "stdout",
     "output_type": "stream",
     "text": [
      "XGBoost MSE: 15.6450\n"
     ]
    },
    {
     "name": "stderr",
     "output_type": "stream",
     "text": [
      "C:\\Users\\nicus\\AppData\\Local\\Temp\\ipykernel_36028\\3057292292.py:15: FutureWarning: \n",
      "\n",
      "Passing `palette` without assigning `hue` is deprecated and will be removed in v0.14.0. Assign the `y` variable to `hue` and set `legend=False` for the same effect.\n",
      "\n",
      "  sns.barplot(x=importances[indices], y=X.columns[indices], palette=\"viridis\")\n"
     ]
    },
    {
     "data": {
      "image/png": "[encoded data removed]",
      "text/plain": [
       "<Figure size 1000x600 with 1 Axes>"
      ]
     },
     "metadata": {},
     "output_type": "display_data"
    },
    {
     "name": "stdout",
     "output_type": "stream",
     "text": [
      "R² (metoda score): 0.5303913641678026\n",
      "R² (r2_score): 0.5303913641678026\n"
     ]
    }
   ],
   "source": [
    "#xgboost\n",
    "from xgboost import XGBRegressor\n",
    "\n",
    "xgb_model = XGBRegressor(n_estimators=100, random_state=42)\n",
    "xgb_model.fit(X_train, y_train)\n",
    "\n",
    "y_pred = xgb_model.predict(X_test)\n",
    "mse = mean_squared_error(y_test, y_pred)\n",
    "print(f\"XGBoost MSE: {mse:.4f}\")\n",
    "\n",
    "importances = xgb_model.feature_importances_\n",
    "indices = np.argsort(importances)[::-1]\n",
    "\n",
    "plt.figure(figsize=(10, 6))\n",
    "sns.barplot(x=importances[indices], y=X.columns[indices], palette=\"viridis\")\n",
    "plt.title(\"Feature Importances\")\n",
    "plt.show()\n",
    "\n",
    "# Calculăm R² folosind metoda score\n",
    "r2_method = xgb_model.score(X_test, y_test)\n",
    "\n",
    "# Calculăm R² folosind r2_score\n",
    "r2_metric = r2_score(y_test, y_pred)\n",
    "\n",
    "print(\"R² (metoda score):\", r2_method)\n",
    "print(\"R² (r2_score):\", r2_metric)"
   ]
  }
 ],
 "metadata": {
  "kernelspec": {
   "display_name": "venv",
   "language": "python",
   "name": "python3"
  },
  "language_info": {
   "codemirror_mode": {
    "name": "ipython",
    "version": 3
   },
   "file_extension": ".py",
   "mimetype": "text/x-python",
   "name": "python",
   "nbconvert_exporter": "python",
   "pygments_lexer": "ipython3",
   "version": "3.12.1"
  }
 },
 "nbformat": 4,
 "nbformat_minor": 2
}
